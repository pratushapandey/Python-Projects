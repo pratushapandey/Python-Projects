{
 "cells": [
  {
   "cell_type": "code",
   "execution_count": 4,
   "id": "6f2dde07",
   "metadata": {},
   "outputs": [
    {
     "name": "stdout",
     "output_type": "stream",
     "text": [
      "Collecting PyPDF2\n",
      "  Downloading pypdf2-3.0.1-py3-none-any.whl (232 kB)\n",
      "Requirement already satisfied: typing_extensions>=3.10.0.0 in c:\\users\\pratusha pandey\\anaconda3\\lib\\site-packages (from PyPDF2) (4.5.0)\n",
      "Installing collected packages: PyPDF2\n",
      "Successfully installed PyPDF2-3.0.1\n"
     ]
    }
   ],
   "source": [
    "!pip install PyPDF2"
   ]
  },
  {
   "cell_type": "code",
   "execution_count": 8,
   "id": "1dc740fc",
   "metadata": {},
   "outputs": [],
   "source": [
    "from PyPDF2 import PdfReader, PdfWriter"
   ]
  },
  {
   "cell_type": "code",
   "execution_count": 10,
   "id": "aa48bd9c",
   "metadata": {},
   "outputs": [],
   "source": [
    "## open the current pdf\n",
    "file_pdf = PdfReader('Tech Fest.pdf')\n",
    "\n",
    "## object for pdf writer\n",
    "out_pdf = PdfWriter()"
   ]
  },
  {
   "cell_type": "code",
   "execution_count": 11,
   "id": "7cd6ee45",
   "metadata": {},
   "outputs": [
    {
     "data": {
      "text/plain": [
       "<PyPDF2._reader.PdfReader at 0x1e8d35199d0>"
      ]
     },
     "execution_count": 11,
     "metadata": {},
     "output_type": "execute_result"
    }
   ],
   "source": [
    "file_pdf"
   ]
  },
  {
   "cell_type": "code",
   "execution_count": 15,
   "id": "eef788d2",
   "metadata": {},
   "outputs": [
    {
     "data": {
      "text/plain": [
       "1"
      ]
     },
     "execution_count": 15,
     "metadata": {},
     "output_type": "execute_result"
    }
   ],
   "source": [
    "len(file_pdf.pages)"
   ]
  },
  {
   "cell_type": "code",
   "execution_count": 20,
   "id": "0136ed57",
   "metadata": {},
   "outputs": [],
   "source": [
    "for i in range (len(file_pdf.pages)):\n",
    "    page_details = file_pdf.pages[i]\n",
    "    out_pdf.add_page(page_details)"
   ]
  },
  {
   "cell_type": "code",
   "execution_count": 21,
   "id": "bf07fa4b",
   "metadata": {},
   "outputs": [],
   "source": [
    "password = \"Pratusha@11\"\n",
    "\n",
    "out_pdf.encrypt(password)"
   ]
  },
  {
   "cell_type": "code",
   "execution_count": 23,
   "id": "6ef0c991",
   "metadata": {},
   "outputs": [],
   "source": [
    "with open (\"encryptedpdf_file.pdf\",\"wb\") as filename:\n",
    "    out_pdf.write(filename)"
   ]
  }
 ],
 "metadata": {
  "kernelspec": {
   "display_name": "Python 3 (ipykernel)",
   "language": "python",
   "name": "python3"
  },
  "language_info": {
   "codemirror_mode": {
    "name": "ipython",
    "version": 3
   },
   "file_extension": ".py",
   "mimetype": "text/x-python",
   "name": "python",
   "nbconvert_exporter": "python",
   "pygments_lexer": "ipython3",
   "version": "3.9.12"
  }
 },
 "nbformat": 4,
 "nbformat_minor": 5
}
